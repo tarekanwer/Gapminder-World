{
 "cells": [
  {
   "cell_type": "markdown",
   "metadata": {},
   "source": [
    "# Project: GAPMINDER WORLD\n",
    "\n",
    "\n",
    "## Table of Contents\n",
    "<ul>\n",
    "<li><a href=\"#intro\">Introduction</a></li>\n",
    "<li><a href=\"#wrangling\">Data Wrangling</a></li>\n",
    "<li><a href=\"#eda\">Exploratory Data Analysis</a></li>\n",
    "<li><a href=\"#conclusions\">Conclusions</a></li>\n",
    "</ul>"
   ]
  },
  {
   "cell_type": "markdown",
   "metadata": {},
   "source": [
    "<a id='intro'></a>\n",
    "## Introduction\n",
    "\n",
    "> the project aims to build correlations between different indicators on human life in different countries. the indicators used were : \n",
    ">1 - human development index : index to measure the life expectancy, eduation and income in countries \n",
    ">2 - agriculture land percentage : index to measure the activity of agriculture\n",
    ">3 - income per person : to measure life standards according to income\n",
    ">4 - children per woman : measure of kids born per woman\n",
    ">5 - CO2 emissions : measure of carbon emmission per person.\n",
    ">6 - life expectancy : measures average lives in each country \n",
    ">7 - energy usage per person : measures kg of oil equivalent per capita for each person\n",
    "\n"
   ]
  },
  {
   "cell_type": "code",
   "execution_count": 14,
   "metadata": {},
   "outputs": [],
   "source": [
    "# Use this cell to set up import statements for all of the packages that you\n",
    "#   plan to use.\n",
    "\n",
    "# Remember to include a 'magic word' so that your visualizations are plotted\n",
    "#   inline with the notebook. See this page for more:\n",
    "#   http://ipython.readthedocs.io/en/stable/interactive/magics.html\n",
    "\n",
    "import numpy as np\n",
    "import pandas as pd \n",
    "import matplotlib.pyplot as plt\n",
    "import seaborn as sns \n",
    "%matplotlib inline \n",
    "from functools import reduce\n"
   ]
  },
  {
   "cell_type": "markdown",
   "metadata": {},
   "source": [
    "<a id='wrangling'></a>\n",
    "## Data Wrangling\n",
    "\n",
    "> In this section, data are collected based on indicies wanted and year for countries available. Note that year 2014 was selected as this was most recent year for energy use per person\n",
    "\n",
    "### General Properties"
   ]
  },
  {
   "cell_type": "markdown",
   "metadata": {},
   "source": [
    "this section of code calles data needed for 2014 year"
   ]
  },
  {
   "cell_type": "code",
   "execution_count": 15,
   "metadata": {},
   "outputs": [],
   "source": [
    "# Load your data and print out a few lines. Perform operations to inspect data\n",
    "#   types and look for instances of missing or possibly errant data.\n",
    "agri = pd.read_csv('agricultural_land_percent_of_land_area.csv')[['country' , '2014']]\n",
    "child = pd.read_csv('children_per_woman_total_fertility.csv')[['country' , '2014']]\n",
    "co2 = pd.read_csv('co2_emissions_tonnes_per_person.csv')[['country' , '2014']]\n",
    "energy = pd.read_csv('energy_use_per_person.csv')[['country' , '2014']]\n",
    "hdi = pd.read_csv('hdi_human_development_index.csv')[['country' , '2014']]\n",
    "income = pd.read_csv('income_per_person_gdppercapita_ppp_inflation_adjusted.csv')[['country' , '2014']]\n",
    "life = pd.read_csv('life_expectancy_years.csv')[['country' , '2014']]\n"
   ]
  },
  {
   "cell_type": "markdown",
   "metadata": {},
   "source": [
    "> This section is conserned with merging data for each country with the corresponding selected indicies. Moreover, it also concerned with fixing data types to achieve clean data frame to explore conclusions on it\n",
    "\n",
    "### Data Cleaning (Merging data frames to achive one data frame with each country with corresponding indicies!)"
   ]
  },
  {
   "cell_type": "markdown",
   "metadata": {},
   "source": [
    "this line renames columns and set index to country column"
   ]
  },
  {
   "cell_type": "code",
   "execution_count": 16,
   "metadata": {},
   "outputs": [],
   "source": [
    "lst = [agri,child,co2,energy,hdi,income,life]\n",
    "names = ['agricultural_land_percent','children_per_woman','co2_emissions','energy_use_per_person','hdi','income','life_expectancy']\n",
    "for i in range(len(lst)):\n",
    "    lst[i].rename(columns={'2014': names[i]}, inplace=True)"
   ]
  },
  {
   "cell_type": "markdown",
   "metadata": {},
   "source": [
    "this line is concerned with merging multible dfs into single one."
   ]
  },
  {
   "cell_type": "code",
   "execution_count": 17,
   "metadata": {},
   "outputs": [
    {
     "data": {
      "text/html": [
       "<div>\n",
       "<style scoped>\n",
       "    .dataframe tbody tr th:only-of-type {\n",
       "        vertical-align: middle;\n",
       "    }\n",
       "\n",
       "    .dataframe tbody tr th {\n",
       "        vertical-align: top;\n",
       "    }\n",
       "\n",
       "    .dataframe thead th {\n",
       "        text-align: right;\n",
       "    }\n",
       "</style>\n",
       "<table border=\"1\" class=\"dataframe\">\n",
       "  <thead>\n",
       "    <tr style=\"text-align: right;\">\n",
       "      <th></th>\n",
       "      <th>agricultural_land_percent</th>\n",
       "      <th>children_per_woman</th>\n",
       "      <th>co2_emissions</th>\n",
       "      <th>energy_use_per_person</th>\n",
       "      <th>hdi</th>\n",
       "      <th>income</th>\n",
       "      <th>life_expectancy</th>\n",
       "    </tr>\n",
       "    <tr>\n",
       "      <th>country</th>\n",
       "      <th></th>\n",
       "      <th></th>\n",
       "      <th></th>\n",
       "      <th></th>\n",
       "      <th></th>\n",
       "      <th></th>\n",
       "      <th></th>\n",
       "    </tr>\n",
       "  </thead>\n",
       "  <tbody>\n",
       "    <tr>\n",
       "      <th>Angola</th>\n",
       "      <td>43.90</td>\n",
       "      <td>5.84</td>\n",
       "      <td>1.64</td>\n",
       "      <td>545</td>\n",
       "      <td>0.557</td>\n",
       "      <td>8240</td>\n",
       "      <td>63.0</td>\n",
       "    </tr>\n",
       "    <tr>\n",
       "      <th>Albania</th>\n",
       "      <td>42.90</td>\n",
       "      <td>1.71</td>\n",
       "      <td>1.90</td>\n",
       "      <td>808</td>\n",
       "      <td>0.787</td>\n",
       "      <td>11.6k</td>\n",
       "      <td>78.2</td>\n",
       "    </tr>\n",
       "    <tr>\n",
       "      <th>United Arab Emirates</th>\n",
       "      <td>5.39</td>\n",
       "      <td>1.78</td>\n",
       "      <td>24.20</td>\n",
       "      <td>7650</td>\n",
       "      <td>0.847</td>\n",
       "      <td>62.4k</td>\n",
       "      <td>73.0</td>\n",
       "    </tr>\n",
       "    <tr>\n",
       "      <th>Argentina</th>\n",
       "      <td>54.30</td>\n",
       "      <td>2.32</td>\n",
       "      <td>4.56</td>\n",
       "      <td>2030</td>\n",
       "      <td>0.825</td>\n",
       "      <td>23.6k</td>\n",
       "      <td>76.5</td>\n",
       "    </tr>\n",
       "    <tr>\n",
       "      <th>Armenia</th>\n",
       "      <td>59.00</td>\n",
       "      <td>1.69</td>\n",
       "      <td>1.91</td>\n",
       "      <td>1020</td>\n",
       "      <td>0.746</td>\n",
       "      <td>11k</td>\n",
       "      <td>75.2</td>\n",
       "    </tr>\n",
       "  </tbody>\n",
       "</table>\n",
       "</div>"
      ],
      "text/plain": [
       "                      agricultural_land_percent  children_per_woman  \\\n",
       "country                                                               \n",
       "Angola                                    43.90                5.84   \n",
       "Albania                                   42.90                1.71   \n",
       "United Arab Emirates                       5.39                1.78   \n",
       "Argentina                                 54.30                2.32   \n",
       "Armenia                                   59.00                1.69   \n",
       "\n",
       "                      co2_emissions energy_use_per_person    hdi income  \\\n",
       "country                                                                   \n",
       "Angola                         1.64                   545  0.557   8240   \n",
       "Albania                        1.90                   808  0.787  11.6k   \n",
       "United Arab Emirates          24.20                  7650  0.847  62.4k   \n",
       "Argentina                      4.56                  2030  0.825  23.6k   \n",
       "Armenia                        1.91                  1020  0.746    11k   \n",
       "\n",
       "                      life_expectancy  \n",
       "country                                \n",
       "Angola                           63.0  \n",
       "Albania                          78.2  \n",
       "United Arab Emirates             73.0  \n",
       "Argentina                        76.5  \n",
       "Armenia                          75.2  "
      ]
     },
     "execution_count": 17,
     "metadata": {},
     "output_type": "execute_result"
    }
   ],
   "source": [
    "df = reduce(lambda left,right: pd.merge(left,right,on='country'), lst)\n",
    "df.set_index(['country'],inplace = True)\n",
    "df.head(5)"
   ]
  },
  {
   "cell_type": "markdown",
   "metadata": {},
   "source": [
    "Investigating null values in the manipulated df"
   ]
  },
  {
   "cell_type": "code",
   "execution_count": 18,
   "metadata": {
    "scrolled": false
   },
   "outputs": [
    {
     "name": "stdout",
     "output_type": "stream",
     "text": [
      "<class 'pandas.core.frame.DataFrame'>\n",
      "Index: 165 entries, Angola to Zimbabwe\n",
      "Data columns (total 7 columns):\n",
      " #   Column                     Non-Null Count  Dtype  \n",
      "---  ------                     --------------  -----  \n",
      " 0   agricultural_land_percent  165 non-null    float64\n",
      " 1   children_per_woman         165 non-null    float64\n",
      " 2   co2_emissions              165 non-null    float64\n",
      " 3   energy_use_per_person      132 non-null    object \n",
      " 4   hdi                        165 non-null    float64\n",
      " 5   income                     165 non-null    object \n",
      " 6   life_expectancy            165 non-null    float64\n",
      "dtypes: float64(5), object(2)\n",
      "memory usage: 10.3+ KB\n"
     ]
    }
   ],
   "source": [
    "df.info()"
   ]
  },
  {
   "cell_type": "code",
   "execution_count": 19,
   "metadata": {},
   "outputs": [
    {
     "data": {
      "text/plain": [
       "33"
      ]
     },
     "execution_count": 19,
     "metadata": {},
     "output_type": "execute_result"
    }
   ],
   "source": [
    "df.energy_use_per_person.isnull().sum()"
   ]
  },
  {
   "cell_type": "markdown",
   "metadata": {},
   "source": [
    "it seems that the energy coloumn is the only one with missing values. and it is missing with 33 value. As the data exhibit no battern between countries in the df. it is better to drop rows with those nulls"
   ]
  },
  {
   "cell_type": "markdown",
   "metadata": {},
   "source": [
    "As a part of cleaning data, Nan values should be droped. this was handled in this line."
   ]
  },
  {
   "cell_type": "code",
   "execution_count": 20,
   "metadata": {},
   "outputs": [],
   "source": [
    "df.dropna(inplace = True)"
   ]
  },
  {
   "cell_type": "markdown",
   "metadata": {},
   "source": [
    "it was noticed that income and energy use per person columns need to be normalized to floats. Note that the data are written in different formats (10k stands for 10000)."
   ]
  },
  {
   "cell_type": "code",
   "execution_count": 21,
   "metadata": {},
   "outputs": [],
   "source": [
    "df.income = df.income.replace({'k': '*1e3'}, regex=True).map(pd.eval).astype(float)\n"
   ]
  },
  {
   "cell_type": "code",
   "execution_count": 22,
   "metadata": {},
   "outputs": [],
   "source": [
    "df.energy_use_per_person = df.energy_use_per_person.replace({'k': '*1e3'}, regex=True).map(pd.eval).astype(float)\n"
   ]
  },
  {
   "cell_type": "markdown",
   "metadata": {},
   "source": [
    "checking that columns meet expectaions "
   ]
  },
  {
   "cell_type": "code",
   "execution_count": 23,
   "metadata": {
    "scrolled": true
   },
   "outputs": [
    {
     "name": "stdout",
     "output_type": "stream",
     "text": [
      "<class 'pandas.core.frame.DataFrame'>\n",
      "Index: 132 entries, Angola to South Africa\n",
      "Data columns (total 7 columns):\n",
      " #   Column                     Non-Null Count  Dtype  \n",
      "---  ------                     --------------  -----  \n",
      " 0   agricultural_land_percent  132 non-null    float64\n",
      " 1   children_per_woman         132 non-null    float64\n",
      " 2   co2_emissions              132 non-null    float64\n",
      " 3   energy_use_per_person      132 non-null    float64\n",
      " 4   hdi                        132 non-null    float64\n",
      " 5   income                     132 non-null    float64\n",
      " 6   life_expectancy            132 non-null    float64\n",
      "dtypes: float64(7)\n",
      "memory usage: 8.2+ KB\n"
     ]
    }
   ],
   "source": [
    "df.info()"
   ]
  },
  {
   "cell_type": "markdown",
   "metadata": {},
   "source": [
    "showing data cleaned "
   ]
  },
  {
   "cell_type": "code",
   "execution_count": 24,
   "metadata": {
    "scrolled": true
   },
   "outputs": [
    {
     "data": {
      "text/html": [
       "<div>\n",
       "<style scoped>\n",
       "    .dataframe tbody tr th:only-of-type {\n",
       "        vertical-align: middle;\n",
       "    }\n",
       "\n",
       "    .dataframe tbody tr th {\n",
       "        vertical-align: top;\n",
       "    }\n",
       "\n",
       "    .dataframe thead th {\n",
       "        text-align: right;\n",
       "    }\n",
       "</style>\n",
       "<table border=\"1\" class=\"dataframe\">\n",
       "  <thead>\n",
       "    <tr style=\"text-align: right;\">\n",
       "      <th></th>\n",
       "      <th>agricultural_land_percent</th>\n",
       "      <th>children_per_woman</th>\n",
       "      <th>co2_emissions</th>\n",
       "      <th>energy_use_per_person</th>\n",
       "      <th>hdi</th>\n",
       "      <th>income</th>\n",
       "      <th>life_expectancy</th>\n",
       "    </tr>\n",
       "    <tr>\n",
       "      <th>country</th>\n",
       "      <th></th>\n",
       "      <th></th>\n",
       "      <th></th>\n",
       "      <th></th>\n",
       "      <th></th>\n",
       "      <th></th>\n",
       "      <th></th>\n",
       "    </tr>\n",
       "  </thead>\n",
       "  <tbody>\n",
       "    <tr>\n",
       "      <th>Angola</th>\n",
       "      <td>43.90</td>\n",
       "      <td>5.84</td>\n",
       "      <td>1.64</td>\n",
       "      <td>545.0</td>\n",
       "      <td>0.557</td>\n",
       "      <td>8240.0</td>\n",
       "      <td>63.0</td>\n",
       "    </tr>\n",
       "    <tr>\n",
       "      <th>Albania</th>\n",
       "      <td>42.90</td>\n",
       "      <td>1.71</td>\n",
       "      <td>1.90</td>\n",
       "      <td>808.0</td>\n",
       "      <td>0.787</td>\n",
       "      <td>11600.0</td>\n",
       "      <td>78.2</td>\n",
       "    </tr>\n",
       "    <tr>\n",
       "      <th>United Arab Emirates</th>\n",
       "      <td>5.39</td>\n",
       "      <td>1.78</td>\n",
       "      <td>24.20</td>\n",
       "      <td>7650.0</td>\n",
       "      <td>0.847</td>\n",
       "      <td>62400.0</td>\n",
       "      <td>73.0</td>\n",
       "    </tr>\n",
       "    <tr>\n",
       "      <th>Argentina</th>\n",
       "      <td>54.30</td>\n",
       "      <td>2.32</td>\n",
       "      <td>4.56</td>\n",
       "      <td>2030.0</td>\n",
       "      <td>0.825</td>\n",
       "      <td>23600.0</td>\n",
       "      <td>76.5</td>\n",
       "    </tr>\n",
       "    <tr>\n",
       "      <th>Armenia</th>\n",
       "      <td>59.00</td>\n",
       "      <td>1.69</td>\n",
       "      <td>1.91</td>\n",
       "      <td>1020.0</td>\n",
       "      <td>0.746</td>\n",
       "      <td>11000.0</td>\n",
       "      <td>75.2</td>\n",
       "    </tr>\n",
       "  </tbody>\n",
       "</table>\n",
       "</div>"
      ],
      "text/plain": [
       "                      agricultural_land_percent  children_per_woman  \\\n",
       "country                                                               \n",
       "Angola                                    43.90                5.84   \n",
       "Albania                                   42.90                1.71   \n",
       "United Arab Emirates                       5.39                1.78   \n",
       "Argentina                                 54.30                2.32   \n",
       "Armenia                                   59.00                1.69   \n",
       "\n",
       "                      co2_emissions  energy_use_per_person    hdi   income  \\\n",
       "country                                                                      \n",
       "Angola                         1.64                  545.0  0.557   8240.0   \n",
       "Albania                        1.90                  808.0  0.787  11600.0   \n",
       "United Arab Emirates          24.20                 7650.0  0.847  62400.0   \n",
       "Argentina                      4.56                 2030.0  0.825  23600.0   \n",
       "Armenia                        1.91                 1020.0  0.746  11000.0   \n",
       "\n",
       "                      life_expectancy  \n",
       "country                                \n",
       "Angola                           63.0  \n",
       "Albania                          78.2  \n",
       "United Arab Emirates             73.0  \n",
       "Argentina                        76.5  \n",
       "Armenia                          75.2  "
      ]
     },
     "execution_count": 24,
     "metadata": {},
     "output_type": "execute_result"
    }
   ],
   "source": [
    "df.head()"
   ]
  },
  {
   "cell_type": "markdown",
   "metadata": {},
   "source": [
    "saving to clean csv file"
   ]
  },
  {
   "cell_type": "code",
   "execution_count": 25,
   "metadata": {},
   "outputs": [],
   "source": [
    "df.to_csv('clean.csv')"
   ]
  },
  {
   "cell_type": "markdown",
   "metadata": {},
   "source": [
    "<a id='eda'></a>\n",
    "## Exploratory Data Analysis\n",
    "\n",
    "> Now, data is cleaned as ready to investigated. we are about to call the clean csv as start analysing !\n",
    "\n",
    "### 1 - How can agricultural land percent affect life expectancy ?!"
   ]
  },
  {
   "cell_type": "markdown",
   "metadata": {},
   "source": [
    "Calling csv file "
   ]
  },
  {
   "cell_type": "code",
   "execution_count": 26,
   "metadata": {},
   "outputs": [],
   "source": [
    "# After discussing the structure of the data and any problems that need to be\n",
    "#   cleaned, perform those cleaning steps in the second part of this section.\n",
    "df = pd.read_csv('clean.csv').set_index('country')"
   ]
  },
  {
   "cell_type": "code",
   "execution_count": 27,
   "metadata": {
    "scrolled": true
   },
   "outputs": [
    {
     "data": {
      "text/html": [
       "<div>\n",
       "<style scoped>\n",
       "    .dataframe tbody tr th:only-of-type {\n",
       "        vertical-align: middle;\n",
       "    }\n",
       "\n",
       "    .dataframe tbody tr th {\n",
       "        vertical-align: top;\n",
       "    }\n",
       "\n",
       "    .dataframe thead th {\n",
       "        text-align: right;\n",
       "    }\n",
       "</style>\n",
       "<table border=\"1\" class=\"dataframe\">\n",
       "  <thead>\n",
       "    <tr style=\"text-align: right;\">\n",
       "      <th></th>\n",
       "      <th>agricultural_land_percent</th>\n",
       "      <th>children_per_woman</th>\n",
       "      <th>co2_emissions</th>\n",
       "      <th>energy_use_per_person</th>\n",
       "      <th>hdi</th>\n",
       "      <th>income</th>\n",
       "      <th>life_expectancy</th>\n",
       "    </tr>\n",
       "    <tr>\n",
       "      <th>country</th>\n",
       "      <th></th>\n",
       "      <th></th>\n",
       "      <th></th>\n",
       "      <th></th>\n",
       "      <th></th>\n",
       "      <th></th>\n",
       "      <th></th>\n",
       "    </tr>\n",
       "  </thead>\n",
       "  <tbody>\n",
       "    <tr>\n",
       "      <th>Angola</th>\n",
       "      <td>43.90</td>\n",
       "      <td>5.84</td>\n",
       "      <td>1.64</td>\n",
       "      <td>545.0</td>\n",
       "      <td>0.557</td>\n",
       "      <td>8240.0</td>\n",
       "      <td>63.0</td>\n",
       "    </tr>\n",
       "    <tr>\n",
       "      <th>Albania</th>\n",
       "      <td>42.90</td>\n",
       "      <td>1.71</td>\n",
       "      <td>1.90</td>\n",
       "      <td>808.0</td>\n",
       "      <td>0.787</td>\n",
       "      <td>11600.0</td>\n",
       "      <td>78.2</td>\n",
       "    </tr>\n",
       "    <tr>\n",
       "      <th>United Arab Emirates</th>\n",
       "      <td>5.39</td>\n",
       "      <td>1.78</td>\n",
       "      <td>24.20</td>\n",
       "      <td>7650.0</td>\n",
       "      <td>0.847</td>\n",
       "      <td>62400.0</td>\n",
       "      <td>73.0</td>\n",
       "    </tr>\n",
       "    <tr>\n",
       "      <th>Argentina</th>\n",
       "      <td>54.30</td>\n",
       "      <td>2.32</td>\n",
       "      <td>4.56</td>\n",
       "      <td>2030.0</td>\n",
       "      <td>0.825</td>\n",
       "      <td>23600.0</td>\n",
       "      <td>76.5</td>\n",
       "    </tr>\n",
       "    <tr>\n",
       "      <th>Armenia</th>\n",
       "      <td>59.00</td>\n",
       "      <td>1.69</td>\n",
       "      <td>1.91</td>\n",
       "      <td>1020.0</td>\n",
       "      <td>0.746</td>\n",
       "      <td>11000.0</td>\n",
       "      <td>75.2</td>\n",
       "    </tr>\n",
       "  </tbody>\n",
       "</table>\n",
       "</div>"
      ],
      "text/plain": [
       "                      agricultural_land_percent  children_per_woman  \\\n",
       "country                                                               \n",
       "Angola                                    43.90                5.84   \n",
       "Albania                                   42.90                1.71   \n",
       "United Arab Emirates                       5.39                1.78   \n",
       "Argentina                                 54.30                2.32   \n",
       "Armenia                                   59.00                1.69   \n",
       "\n",
       "                      co2_emissions  energy_use_per_person    hdi   income  \\\n",
       "country                                                                      \n",
       "Angola                         1.64                  545.0  0.557   8240.0   \n",
       "Albania                        1.90                  808.0  0.787  11600.0   \n",
       "United Arab Emirates          24.20                 7650.0  0.847  62400.0   \n",
       "Argentina                      4.56                 2030.0  0.825  23600.0   \n",
       "Armenia                        1.91                 1020.0  0.746  11000.0   \n",
       "\n",
       "                      life_expectancy  \n",
       "country                                \n",
       "Angola                           63.0  \n",
       "Albania                          78.2  \n",
       "United Arab Emirates             73.0  \n",
       "Argentina                        76.5  \n",
       "Armenia                          75.2  "
      ]
     },
     "execution_count": 27,
     "metadata": {},
     "output_type": "execute_result"
    }
   ],
   "source": [
    "df.head()"
   ]
  },
  {
   "cell_type": "code",
   "execution_count": 28,
   "metadata": {},
   "outputs": [
    {
     "data": {
      "image/png": "[encoded data removed]",
      "text/plain": [
       "<Figure size 432x288 with 1 Axes>"
      ]
     },
     "metadata": {
      "needs_background": "light"
     },
     "output_type": "display_data"
    }
   ],
   "source": [
    "# Use this, and more code cells, to explore your data. Don't forget to add\n",
    "#   Markdown cells to document your observations and findings.\n",
    "plt.scatter(df.agricultural_land_percent,df.life_expectancy)\n",
    "parameters = np.polyfit(df.agricultural_land_percent, df.life_expectancy, 1)\n",
    "trend_line = np.poly1d(parameters)\n",
    "plt.plot(df.agricultural_land_percent, trend_line(df.agricultural_land_percent), \"orange\",label=\"trendline\")\n",
    "plt.legend(loc = 'lower right')\n",
    "plt.title('Agricultural land percentage vs life expectancy')\n",
    "plt.xlabel('Agricultural land percentage')\n",
    "plt.ylabel('life expectancy in years');"
   ]
  },
  {
   "cell_type": "markdown",
   "metadata": {},
   "source": [
    "it seems that people with high agricultural area have shorter life. while people living in countries with high agricutral area percentage are associated with agriculture, it seems that working as a farmer is quite hard and consuming"
   ]
  },
  {
   "cell_type": "markdown",
   "metadata": {},
   "source": [
    "### 2 - Are there a relation between the co2 emissions and agricultural land percentage ?!"
   ]
  },
  {
   "cell_type": "code",
   "execution_count": 29,
   "metadata": {
    "scrolled": true
   },
   "outputs": [
    {
     "data": {
      "image/png": "[encoded data removed]",
      "text/plain": [
       "<Figure size 432x288 with 1 Axes>"
      ]
     },
     "metadata": {
      "needs_background": "light"
     },
     "output_type": "display_data"
    }
   ],
   "source": [
    "# Continue to explore the data to address your additional research\n",
    "#   questions. Add more headers as needed if you have more questions to\n",
    "#   investigate.\n",
    "plt.scatter(df.agricultural_land_percent,df.co2_emissions)\n",
    "parameters = np.polyfit(df.agricultural_land_percent, df.co2_emissions, 1)\n",
    "trend_line = np.poly1d(parameters)\n",
    "plt.plot(df.agricultural_land_percent, trend_line(df.agricultural_land_percent), \"orange\",label=\"trendline\")\n",
    "plt.legend(loc=\"upper right\")\n",
    "plt.title('Agricultural land percentage vs CO2 emissions per person')\n",
    "plt.xlabel('Agricultural land percentage')\n",
    "plt.ylabel('CO2 emissions per person (tonnes per person)');"
   ]
  },
  {
   "cell_type": "markdown",
   "metadata": {},
   "source": [
    "it seems quite resonable to see that there is a negative correalation between agricultural land percentage and CO2 emissions."
   ]
  },
  {
   "cell_type": "markdown",
   "metadata": {},
   "source": [
    "### 3 - Are people with high incomes expected to live more ?!"
   ]
  },
  {
   "cell_type": "code",
   "execution_count": 30,
   "metadata": {},
   "outputs": [
    {
     "data": {
      "image/png": "[encoded data removed]",
      "text/plain": [
       "<Figure size 432x288 with 1 Axes>"
      ]
     },
     "metadata": {
      "needs_background": "light"
     },
     "output_type": "display_data"
    }
   ],
   "source": [
    "# Continue to explore the data to address your additional research\n",
    "#   questions. Add more headers as needed if you have more questions to\n",
    "#   investigate.\n",
    "plt.scatter(df.income,df.life_expectancy)\n",
    "parameters = np.polyfit(df.income, df.life_expectancy, 1)\n",
    "trend_line = np.poly1d(parameters)\n",
    "plt.plot(df.income, trend_line(df.income), \"orange\",label=\"trendline\")\n",
    "plt.legend(loc=\"upper left\")\n",
    "plt.title('income vs life expectancy')\n",
    "plt.ylabel('life expectancy in years')\n",
    "plt.xlabel('income (GDP per capita)');"
   ]
  },
  {
   "cell_type": "markdown",
   "metadata": {},
   "source": [
    "it can be seen that people with more income are more likely to have longer life. this may indicate that income facilitate their life and provide the with better medical assurance."
   ]
  },
  {
   "cell_type": "markdown",
   "metadata": {},
   "source": [
    "### 4 - Is there any realation between having a high living level and having more kids ?! "
   ]
  },
  {
   "cell_type": "code",
   "execution_count": 31,
   "metadata": {},
   "outputs": [
    {
     "data": {
      "image/png": "[encoded data removed]",
      "text/plain": [
       "<Figure size 432x288 with 1 Axes>"
      ]
     },
     "metadata": {
      "needs_background": "light"
     },
     "output_type": "display_data"
    }
   ],
   "source": [
    "# Continue to explore the data to address your additional research\n",
    "#   questions. Add more headers as needed if you have more questions to\n",
    "#   investigate.\n",
    "plt.scatter(df.income,df.children_per_woman)\n",
    "parameters = np.polyfit(df.income, df.children_per_woman, 1)\n",
    "trend_line = np.poly1d(parameters)\n",
    "plt.plot(df.income, trend_line(df.income), \"orange\",label=\"trendline\")\n",
    "plt.legend(loc=\"upper right\")\n",
    "plt.title('income vs life expectancy')\n",
    "plt.ylabel('Children Per Woman')\n",
    "plt.xlabel('Income (GDP per capita)');"
   ]
  },
  {
   "cell_type": "markdown",
   "metadata": {},
   "source": [
    "it seems that people with high living class tends to have less children. it can be also explained as people with more money can get pleased with alternatives other than having sex and children."
   ]
  },
  {
   "cell_type": "markdown",
   "metadata": {},
   "source": [
    "### 5 - How can the energy usage affect the life expectancy of people !? "
   ]
  },
  {
   "cell_type": "code",
   "execution_count": 32,
   "metadata": {},
   "outputs": [
    {
     "data": {
      "image/png": "[encoded data removed]",
      "text/plain": [
       "<Figure size 432x288 with 1 Axes>"
      ]
     },
     "metadata": {
      "needs_background": "light"
     },
     "output_type": "display_data"
    }
   ],
   "source": [
    "# Continue to explore the data to address your additional research\n",
    "#   questions. Add more headers as needed if you have more questions to\n",
    "#   investigate.\n",
    "plt.scatter(df.energy_use_per_person,df.life_expectancy)\n",
    "parameters = np.polyfit(df.energy_use_per_person, df.life_expectancy,1)\n",
    "trend_line = np.poly1d(parameters)\n",
    "plt.plot(df.energy_use_per_person, trend_line(df.energy_use_per_person), \"orange\",label=\"trendline\")\n",
    "plt.legend(loc = 'lower right')\n",
    "plt.title('Energy Use Per Person vs life expectancy')\n",
    "plt.xlabel('Energy Use Per Person')\n",
    "plt.ylabel('Life Expectancy In Years');"
   ]
  },
  {
   "cell_type": "markdown",
   "metadata": {},
   "source": [
    "analysis shows that people with more daily energy used are more likely to live more as this energy is used to facilitate their daily tasks. So, they do not have to be consumed."
   ]
  },
  {
   "cell_type": "markdown",
   "metadata": {},
   "source": [
    "### 6 - How can investing in people life affect there income and living level !?"
   ]
  },
  {
   "cell_type": "code",
   "execution_count": 33,
   "metadata": {},
   "outputs": [
    {
     "data": {
      "image/png": "[encoded data removed]",
      "text/plain": [
       "<Figure size 432x288 with 1 Axes>"
      ]
     },
     "metadata": {
      "needs_background": "light"
     },
     "output_type": "display_data"
    }
   ],
   "source": [
    "# Continue to explore the data to address your additional research\n",
    "#   questions. Add more headers as needed if you have more questions to\n",
    "#   investigate.\n",
    "plt.scatter(df.hdi,df.income)\n",
    "parameters = np.polyfit(df.hdi,df.income,1)\n",
    "trend_line = np.poly1d(parameters)\n",
    "plt.plot(df.hdi, trend_line(df.hdi), \"orange\",label=\"trendline\")\n",
    "plt.legend(loc = 'upper left')\n",
    "plt.title('HDI vs Income')\n",
    "plt.xlabel('Human Development Index')\n",
    "plt.ylabel('Income in (GPD per capita)');\n"
   ]
  },
  {
   "cell_type": "markdown",
   "metadata": {},
   "source": [
    "this analysis shows that countries concerned with people health ,edication levels and living standards are more likely to have higher incomes."
   ]
  },
  {
   "cell_type": "markdown",
   "metadata": {},
   "source": [
    "### 7 - Give insights about the income of people ?!"
   ]
  },
  {
   "cell_type": "code",
   "execution_count": 59,
   "metadata": {
    "scrolled": true
   },
   "outputs": [
    {
     "data": {
      "text/html": [
       "<div>\n",
       "<style scoped>\n",
       "    .dataframe tbody tr th:only-of-type {\n",
       "        vertical-align: middle;\n",
       "    }\n",
       "\n",
       "    .dataframe tbody tr th {\n",
       "        vertical-align: top;\n",
       "    }\n",
       "\n",
       "    .dataframe thead th {\n",
       "        text-align: right;\n",
       "    }\n",
       "</style>\n",
       "<table border=\"1\" class=\"dataframe\">\n",
       "  <thead>\n",
       "    <tr style=\"text-align: right;\">\n",
       "      <th></th>\n",
       "      <th>agricultural_land_percent</th>\n",
       "      <th>children_per_woman</th>\n",
       "      <th>co2_emissions</th>\n",
       "      <th>energy_use_per_person</th>\n",
       "      <th>hdi</th>\n",
       "      <th>income</th>\n",
       "      <th>life_expectancy</th>\n",
       "    </tr>\n",
       "    <tr>\n",
       "      <th>country</th>\n",
       "      <th></th>\n",
       "      <th></th>\n",
       "      <th></th>\n",
       "      <th></th>\n",
       "      <th></th>\n",
       "      <th></th>\n",
       "      <th></th>\n",
       "    </tr>\n",
       "  </thead>\n",
       "  <tbody>\n",
       "    <tr>\n",
       "      <th>Luxembourg</th>\n",
       "      <td>53.9</td>\n",
       "      <td>1.56</td>\n",
       "      <td>17.7</td>\n",
       "      <td>6860.0</td>\n",
       "      <td>0.895</td>\n",
       "      <td>109000.0</td>\n",
       "      <td>82.0</td>\n",
       "    </tr>\n",
       "  </tbody>\n",
       "</table>\n",
       "</div>"
      ],
      "text/plain": [
       "            agricultural_land_percent  children_per_woman  co2_emissions  \\\n",
       "country                                                                    \n",
       "Luxembourg                       53.9                1.56           17.7   \n",
       "\n",
       "            energy_use_per_person    hdi    income  life_expectancy  \n",
       "country                                                              \n",
       "Luxembourg                 6860.0  0.895  109000.0             82.0  "
      ]
     },
     "execution_count": 59,
     "metadata": {},
     "output_type": "execute_result"
    }
   ],
   "source": [
    "df.query('income == income.max()')"
   ]
  },
  {
   "cell_type": "code",
   "execution_count": 60,
   "metadata": {
    "scrolled": true
   },
   "outputs": [
    {
     "data": {
      "text/html": [
       "<div>\n",
       "<style scoped>\n",
       "    .dataframe tbody tr th:only-of-type {\n",
       "        vertical-align: middle;\n",
       "    }\n",
       "\n",
       "    .dataframe tbody tr th {\n",
       "        vertical-align: top;\n",
       "    }\n",
       "\n",
       "    .dataframe thead th {\n",
       "        text-align: right;\n",
       "    }\n",
       "</style>\n",
       "<table border=\"1\" class=\"dataframe\">\n",
       "  <thead>\n",
       "    <tr style=\"text-align: right;\">\n",
       "      <th></th>\n",
       "      <th>agricultural_land_percent</th>\n",
       "      <th>children_per_woman</th>\n",
       "      <th>co2_emissions</th>\n",
       "      <th>energy_use_per_person</th>\n",
       "      <th>hdi</th>\n",
       "      <th>income</th>\n",
       "      <th>life_expectancy</th>\n",
       "    </tr>\n",
       "    <tr>\n",
       "      <th>country</th>\n",
       "      <th></th>\n",
       "      <th></th>\n",
       "      <th></th>\n",
       "      <th></th>\n",
       "      <th></th>\n",
       "      <th></th>\n",
       "      <th></th>\n",
       "    </tr>\n",
       "  </thead>\n",
       "  <tbody>\n",
       "    <tr>\n",
       "      <th>Congo, Dem. Rep.</th>\n",
       "      <td>14.2</td>\n",
       "      <td>6.24</td>\n",
       "      <td>0.0628</td>\n",
       "      <td>389.0</td>\n",
       "      <td>0.441</td>\n",
       "      <td>1030.0</td>\n",
       "      <td>61.8</td>\n",
       "    </tr>\n",
       "  </tbody>\n",
       "</table>\n",
       "</div>"
      ],
      "text/plain": [
       "                  agricultural_land_percent  children_per_woman  \\\n",
       "country                                                           \n",
       "Congo, Dem. Rep.                       14.2                6.24   \n",
       "\n",
       "                  co2_emissions  energy_use_per_person    hdi  income  \\\n",
       "country                                                                 \n",
       "Congo, Dem. Rep.         0.0628                  389.0  0.441  1030.0   \n",
       "\n",
       "                  life_expectancy  \n",
       "country                            \n",
       "Congo, Dem. Rep.             61.8  "
      ]
     },
     "execution_count": 60,
     "metadata": {},
     "output_type": "execute_result"
    }
   ],
   "source": [
    "df.query('income == income.min()')"
   ]
  },
  {
   "cell_type": "markdown",
   "metadata": {},
   "source": [
    "According to previous plots, it seems that income data have outliers. to get more reliable insights about the income along countries, those data should be droped from analysis."
   ]
  },
  {
   "cell_type": "code",
   "execution_count": 61,
   "metadata": {
    "scrolled": false
   },
   "outputs": [
    {
     "data": {
      "text/html": [
       "<div>\n",
       "<style scoped>\n",
       "    .dataframe tbody tr th:only-of-type {\n",
       "        vertical-align: middle;\n",
       "    }\n",
       "\n",
       "    .dataframe tbody tr th {\n",
       "        vertical-align: top;\n",
       "    }\n",
       "\n",
       "    .dataframe thead th {\n",
       "        text-align: right;\n",
       "    }\n",
       "</style>\n",
       "<table border=\"1\" class=\"dataframe\">\n",
       "  <thead>\n",
       "    <tr style=\"text-align: right;\">\n",
       "      <th></th>\n",
       "      <th>agricultural_land_percent</th>\n",
       "      <th>children_per_woman</th>\n",
       "      <th>co2_emissions</th>\n",
       "      <th>energy_use_per_person</th>\n",
       "      <th>hdi</th>\n",
       "      <th>income</th>\n",
       "      <th>life_expectancy</th>\n",
       "    </tr>\n",
       "  </thead>\n",
       "  <tbody>\n",
       "    <tr>\n",
       "      <th>count</th>\n",
       "      <td>129.000000</td>\n",
       "      <td>129.000000</td>\n",
       "      <td>129.000000</td>\n",
       "      <td>129.000000</td>\n",
       "      <td>129.000000</td>\n",
       "      <td>129.000000</td>\n",
       "      <td>129.000000</td>\n",
       "    </tr>\n",
       "    <tr>\n",
       "      <th>mean</th>\n",
       "      <td>40.404612</td>\n",
       "      <td>2.512093</td>\n",
       "      <td>5.408991</td>\n",
       "      <td>2404.002326</td>\n",
       "      <td>0.738915</td>\n",
       "      <td>21465.193798</td>\n",
       "      <td>73.719380</td>\n",
       "    </tr>\n",
       "    <tr>\n",
       "      <th>std</th>\n",
       "      <td>20.900223</td>\n",
       "      <td>1.235873</td>\n",
       "      <td>5.861687</td>\n",
       "      <td>2704.628381</td>\n",
       "      <td>0.141127</td>\n",
       "      <td>17572.070573</td>\n",
       "      <td>6.848096</td>\n",
       "    </tr>\n",
       "    <tr>\n",
       "      <th>min</th>\n",
       "      <td>0.565000</td>\n",
       "      <td>1.240000</td>\n",
       "      <td>0.062800</td>\n",
       "      <td>66.300000</td>\n",
       "      <td>0.353000</td>\n",
       "      <td>1030.000000</td>\n",
       "      <td>54.900000</td>\n",
       "    </tr>\n",
       "    <tr>\n",
       "      <th>25%</th>\n",
       "      <td>24.800000</td>\n",
       "      <td>1.670000</td>\n",
       "      <td>1.440000</td>\n",
       "      <td>650.000000</td>\n",
       "      <td>0.660000</td>\n",
       "      <td>7940.000000</td>\n",
       "      <td>69.900000</td>\n",
       "    </tr>\n",
       "    <tr>\n",
       "      <th>50%</th>\n",
       "      <td>42.200000</td>\n",
       "      <td>2.070000</td>\n",
       "      <td>3.870000</td>\n",
       "      <td>1540.000000</td>\n",
       "      <td>0.754000</td>\n",
       "      <td>15300.000000</td>\n",
       "      <td>75.000000</td>\n",
       "    </tr>\n",
       "    <tr>\n",
       "      <th>75%</th>\n",
       "      <td>54.600000</td>\n",
       "      <td>2.960000</td>\n",
       "      <td>7.490000</td>\n",
       "      <td>2930.000000</td>\n",
       "      <td>0.847000</td>\n",
       "      <td>30700.000000</td>\n",
       "      <td>79.000000</td>\n",
       "    </tr>\n",
       "    <tr>\n",
       "      <th>max</th>\n",
       "      <td>81.700000</td>\n",
       "      <td>7.340000</td>\n",
       "      <td>33.900000</td>\n",
       "      <td>17900.000000</td>\n",
       "      <td>0.945000</td>\n",
       "      <td>65800.000000</td>\n",
       "      <td>84.100000</td>\n",
       "    </tr>\n",
       "  </tbody>\n",
       "</table>\n",
       "</div>"
      ],
      "text/plain": [
       "       agricultural_land_percent  children_per_woman  co2_emissions  \\\n",
       "count                 129.000000          129.000000     129.000000   \n",
       "mean                   40.404612            2.512093       5.408991   \n",
       "std                    20.900223            1.235873       5.861687   \n",
       "min                     0.565000            1.240000       0.062800   \n",
       "25%                    24.800000            1.670000       1.440000   \n",
       "50%                    42.200000            2.070000       3.870000   \n",
       "75%                    54.600000            2.960000       7.490000   \n",
       "max                    81.700000            7.340000      33.900000   \n",
       "\n",
       "       energy_use_per_person         hdi        income  life_expectancy  \n",
       "count             129.000000  129.000000    129.000000       129.000000  \n",
       "mean             2404.002326    0.738915  21465.193798        73.719380  \n",
       "std              2704.628381    0.141127  17572.070573         6.848096  \n",
       "min                66.300000    0.353000   1030.000000        54.900000  \n",
       "25%               650.000000    0.660000   7940.000000        69.900000  \n",
       "50%              1540.000000    0.754000  15300.000000        75.000000  \n",
       "75%              2930.000000    0.847000  30700.000000        79.000000  \n",
       "max             17900.000000    0.945000  65800.000000        84.100000  "
      ]
     },
     "execution_count": 61,
     "metadata": {},
     "output_type": "execute_result"
    }
   ],
   "source": [
    "df.query('income < 80000').describe()"
   ]
  },
  {
   "cell_type": "markdown",
   "metadata": {},
   "source": [
    "Now lets figure out how many countries are above the mean, and how many below"
   ]
  },
  {
   "cell_type": "code",
   "execution_count": 83,
   "metadata": {},
   "outputs": [],
   "source": [
    "avg = df.query('income < 80000').income.mean()"
   ]
  },
  {
   "cell_type": "markdown",
   "metadata": {},
   "source": [
    "Number of countries above mean"
   ]
  },
  {
   "cell_type": "code",
   "execution_count": 72,
   "metadata": {
    "scrolled": false
   },
   "outputs": [
    {
     "data": {
      "text/plain": [
       "54"
      ]
     },
     "execution_count": 72,
     "metadata": {},
     "output_type": "execute_result"
    }
   ],
   "source": [
    "len(df.query('income > {}'.format(avg)))"
   ]
  },
  {
   "cell_type": "markdown",
   "metadata": {},
   "source": [
    "Number of countries below mean"
   ]
  },
  {
   "cell_type": "code",
   "execution_count": 73,
   "metadata": {
    "scrolled": true
   },
   "outputs": [
    {
     "data": {
      "text/plain": [
       "78"
      ]
     },
     "execution_count": 73,
     "metadata": {},
     "output_type": "execute_result"
    }
   ],
   "source": [
    "len(df.query('income < {}'.format(avg)))"
   ]
  },
  {
   "cell_type": "code",
   "execution_count": 82,
   "metadata": {
    "scrolled": true
   },
   "outputs": [
    {
     "data": {
      "image/png": "[encoded data removed]",
      "text/plain": [
       "<Figure size 432x288 with 1 Axes>"
      ]
     },
     "metadata": {
      "needs_background": "light"
     },
     "output_type": "display_data"
    }
   ],
   "source": [
    "plt.title('Box plot of income along countries')\n",
    "plt.ylabel('GPD per capita')\n",
    "df.boxplot(column = 'income');"
   ]
  },
  {
   "cell_type": "markdown",
   "metadata": {},
   "source": [
    "### 8 - Give insights about HDI ?!"
   ]
  },
  {
   "cell_type": "markdown",
   "metadata": {},
   "source": [
    "Getting the minimum country with hdi "
   ]
  },
  {
   "cell_type": "code",
   "execution_count": 86,
   "metadata": {
    "scrolled": true
   },
   "outputs": [
    {
     "data": {
      "text/html": [
       "<div>\n",
       "<style scoped>\n",
       "    .dataframe tbody tr th:only-of-type {\n",
       "        vertical-align: middle;\n",
       "    }\n",
       "\n",
       "    .dataframe tbody tr th {\n",
       "        vertical-align: top;\n",
       "    }\n",
       "\n",
       "    .dataframe thead th {\n",
       "        text-align: right;\n",
       "    }\n",
       "</style>\n",
       "<table border=\"1\" class=\"dataframe\">\n",
       "  <thead>\n",
       "    <tr style=\"text-align: right;\">\n",
       "      <th></th>\n",
       "      <th>agricultural_land_percent</th>\n",
       "      <th>children_per_woman</th>\n",
       "      <th>co2_emissions</th>\n",
       "      <th>energy_use_per_person</th>\n",
       "      <th>hdi</th>\n",
       "      <th>income</th>\n",
       "      <th>life_expectancy</th>\n",
       "    </tr>\n",
       "    <tr>\n",
       "      <th>country</th>\n",
       "      <th></th>\n",
       "      <th></th>\n",
       "      <th></th>\n",
       "      <th></th>\n",
       "      <th></th>\n",
       "      <th></th>\n",
       "      <th></th>\n",
       "    </tr>\n",
       "  </thead>\n",
       "  <tbody>\n",
       "    <tr>\n",
       "      <th>Niger</th>\n",
       "      <td>36.1</td>\n",
       "      <td>7.34</td>\n",
       "      <td>0.107</td>\n",
       "      <td>150.0</td>\n",
       "      <td>0.353</td>\n",
       "      <td>1130.0</td>\n",
       "      <td>60.4</td>\n",
       "    </tr>\n",
       "  </tbody>\n",
       "</table>\n",
       "</div>"
      ],
      "text/plain": [
       "         agricultural_land_percent  children_per_woman  co2_emissions  \\\n",
       "country                                                                 \n",
       "Niger                         36.1                7.34          0.107   \n",
       "\n",
       "         energy_use_per_person    hdi  income  life_expectancy  \n",
       "country                                                         \n",
       "Niger                    150.0  0.353  1130.0             60.4  "
      ]
     },
     "execution_count": 86,
     "metadata": {},
     "output_type": "execute_result"
    }
   ],
   "source": [
    "df.query('hdi == hdi.min()')"
   ]
  },
  {
   "cell_type": "code",
   "execution_count": 87,
   "metadata": {
    "scrolled": true
   },
   "outputs": [
    {
     "data": {
      "text/html": [
       "<div>\n",
       "<style scoped>\n",
       "    .dataframe tbody tr th:only-of-type {\n",
       "        vertical-align: middle;\n",
       "    }\n",
       "\n",
       "    .dataframe tbody tr th {\n",
       "        vertical-align: top;\n",
       "    }\n",
       "\n",
       "    .dataframe thead th {\n",
       "        text-align: right;\n",
       "    }\n",
       "</style>\n",
       "<table border=\"1\" class=\"dataframe\">\n",
       "  <thead>\n",
       "    <tr style=\"text-align: right;\">\n",
       "      <th></th>\n",
       "      <th>agricultural_land_percent</th>\n",
       "      <th>children_per_woman</th>\n",
       "      <th>co2_emissions</th>\n",
       "      <th>energy_use_per_person</th>\n",
       "      <th>hdi</th>\n",
       "      <th>income</th>\n",
       "      <th>life_expectancy</th>\n",
       "    </tr>\n",
       "    <tr>\n",
       "      <th>country</th>\n",
       "      <th></th>\n",
       "      <th></th>\n",
       "      <th></th>\n",
       "      <th></th>\n",
       "      <th></th>\n",
       "      <th></th>\n",
       "      <th></th>\n",
       "    </tr>\n",
       "  </thead>\n",
       "  <tbody>\n",
       "    <tr>\n",
       "      <th>Norway</th>\n",
       "      <td>2.7</td>\n",
       "      <td>1.87</td>\n",
       "      <td>8.74</td>\n",
       "      <td>5600.0</td>\n",
       "      <td>0.945</td>\n",
       "      <td>62600.0</td>\n",
       "      <td>82.2</td>\n",
       "    </tr>\n",
       "  </tbody>\n",
       "</table>\n",
       "</div>"
      ],
      "text/plain": [
       "         agricultural_land_percent  children_per_woman  co2_emissions  \\\n",
       "country                                                                 \n",
       "Norway                         2.7                1.87           8.74   \n",
       "\n",
       "         energy_use_per_person    hdi   income  life_expectancy  \n",
       "country                                                          \n",
       "Norway                  5600.0  0.945  62600.0             82.2  "
      ]
     },
     "execution_count": 87,
     "metadata": {},
     "output_type": "execute_result"
    }
   ],
   "source": [
    "df.query('hdi == hdi.max()')"
   ]
  },
  {
   "cell_type": "markdown",
   "metadata": {},
   "source": [
    "### 9 - Give insights about life expectancy ?!"
   ]
  },
  {
   "cell_type": "markdown",
   "metadata": {},
   "source": [
    "Getting the country with max life expectancy"
   ]
  },
  {
   "cell_type": "code",
   "execution_count": 88,
   "metadata": {
    "scrolled": true
   },
   "outputs": [
    {
     "data": {
      "text/html": [
       "<div>\n",
       "<style scoped>\n",
       "    .dataframe tbody tr th:only-of-type {\n",
       "        vertical-align: middle;\n",
       "    }\n",
       "\n",
       "    .dataframe tbody tr th {\n",
       "        vertical-align: top;\n",
       "    }\n",
       "\n",
       "    .dataframe thead th {\n",
       "        text-align: right;\n",
       "    }\n",
       "</style>\n",
       "<table border=\"1\" class=\"dataframe\">\n",
       "  <thead>\n",
       "    <tr style=\"text-align: right;\">\n",
       "      <th></th>\n",
       "      <th>agricultural_land_percent</th>\n",
       "      <th>children_per_woman</th>\n",
       "      <th>co2_emissions</th>\n",
       "      <th>energy_use_per_person</th>\n",
       "      <th>hdi</th>\n",
       "      <th>income</th>\n",
       "      <th>life_expectancy</th>\n",
       "    </tr>\n",
       "    <tr>\n",
       "      <th>country</th>\n",
       "      <th></th>\n",
       "      <th></th>\n",
       "      <th></th>\n",
       "      <th></th>\n",
       "      <th></th>\n",
       "      <th></th>\n",
       "      <th></th>\n",
       "    </tr>\n",
       "  </thead>\n",
       "  <tbody>\n",
       "    <tr>\n",
       "      <th>Japan</th>\n",
       "      <td>12.4</td>\n",
       "      <td>1.43</td>\n",
       "      <td>9.88</td>\n",
       "      <td>3470.0</td>\n",
       "      <td>0.904</td>\n",
       "      <td>39400.0</td>\n",
       "      <td>84.1</td>\n",
       "    </tr>\n",
       "  </tbody>\n",
       "</table>\n",
       "</div>"
      ],
      "text/plain": [
       "         agricultural_land_percent  children_per_woman  co2_emissions  \\\n",
       "country                                                                 \n",
       "Japan                         12.4                1.43           9.88   \n",
       "\n",
       "         energy_use_per_person    hdi   income  life_expectancy  \n",
       "country                                                          \n",
       "Japan                   3470.0  0.904  39400.0             84.1  "
      ]
     },
     "execution_count": 88,
     "metadata": {},
     "output_type": "execute_result"
    }
   ],
   "source": [
    "df.query('life_expectancy == life_expectancy.max()')"
   ]
  },
  {
   "cell_type": "markdown",
   "metadata": {},
   "source": [
    "Getting the country with min life expectancy"
   ]
  },
  {
   "cell_type": "code",
   "execution_count": 89,
   "metadata": {
    "scrolled": true
   },
   "outputs": [
    {
     "data": {
      "text/html": [
       "<div>\n",
       "<style scoped>\n",
       "    .dataframe tbody tr th:only-of-type {\n",
       "        vertical-align: middle;\n",
       "    }\n",
       "\n",
       "    .dataframe tbody tr th {\n",
       "        vertical-align: top;\n",
       "    }\n",
       "\n",
       "    .dataframe thead th {\n",
       "        text-align: right;\n",
       "    }\n",
       "</style>\n",
       "<table border=\"1\" class=\"dataframe\">\n",
       "  <thead>\n",
       "    <tr style=\"text-align: right;\">\n",
       "      <th></th>\n",
       "      <th>agricultural_land_percent</th>\n",
       "      <th>children_per_woman</th>\n",
       "      <th>co2_emissions</th>\n",
       "      <th>energy_use_per_person</th>\n",
       "      <th>hdi</th>\n",
       "      <th>income</th>\n",
       "      <th>life_expectancy</th>\n",
       "    </tr>\n",
       "    <tr>\n",
       "      <th>country</th>\n",
       "      <th></th>\n",
       "      <th></th>\n",
       "      <th></th>\n",
       "      <th></th>\n",
       "      <th></th>\n",
       "      <th></th>\n",
       "      <th></th>\n",
       "    </tr>\n",
       "  </thead>\n",
       "  <tbody>\n",
       "    <tr>\n",
       "      <th>Mozambique</th>\n",
       "      <td>51.5</td>\n",
       "      <td>5.37</td>\n",
       "      <td>0.314</td>\n",
       "      <td>443.0</td>\n",
       "      <td>0.42</td>\n",
       "      <td>1220.0</td>\n",
       "      <td>54.9</td>\n",
       "    </tr>\n",
       "  </tbody>\n",
       "</table>\n",
       "</div>"
      ],
      "text/plain": [
       "            agricultural_land_percent  children_per_woman  co2_emissions  \\\n",
       "country                                                                    \n",
       "Mozambique                       51.5                5.37          0.314   \n",
       "\n",
       "            energy_use_per_person   hdi  income  life_expectancy  \n",
       "country                                                           \n",
       "Mozambique                  443.0  0.42  1220.0             54.9  "
      ]
     },
     "execution_count": 89,
     "metadata": {},
     "output_type": "execute_result"
    }
   ],
   "source": [
    "df.query('life_expectancy == life_expectancy.min()')"
   ]
  },
  {
   "cell_type": "markdown",
   "metadata": {},
   "source": [
    "getthing the mean life of people along the country "
   ]
  },
  {
   "cell_type": "code",
   "execution_count": 90,
   "metadata": {
    "scrolled": true
   },
   "outputs": [
    {
     "data": {
      "text/plain": [
       "73.86742424242425"
      ]
     },
     "execution_count": 90,
     "metadata": {},
     "output_type": "execute_result"
    }
   ],
   "source": [
    "df.life_expectancy.mean()"
   ]
  },
  {
   "cell_type": "code",
   "execution_count": 91,
   "metadata": {},
   "outputs": [
    {
     "data": {
      "image/png": "[encoded data removed]",
      "text/plain": [
       "<Figure size 432x288 with 1 Axes>"
      ]
     },
     "metadata": {
      "needs_background": "light"
     },
     "output_type": "display_data"
    }
   ],
   "source": [
    "plt.title('Box plot of life expectancy along countries')\n",
    "plt.ylabel('number of years')\n",
    "df.boxplot(column = 'life_expectancy');"
   ]
  },
  {
   "cell_type": "markdown",
   "metadata": {},
   "source": [
    "<a id='conclusions'></a>\n",
    "## Conclusions\n",
    "> Well, it seems that this is the end of the introduced analysis. At first it was a quite hard task to collect, clean data to have data ready to be visualized. the project aimed to show some significant indices effect on people and how people are behaving in differnet countries and at different living levels. it also shows how can providing people with high standard living conditions can long there lives."
   ]
  },
  {
   "cell_type": "markdown",
   "metadata": {},
   "source": [
    "### Results: Our data analysis suggest that: "
   ]
  },
  {
   "cell_type": "markdown",
   "metadata": {},
   "source": [
    "1 - it seems that people with high agricultural area have shorter life. while people living in countries with high agricutral area percentage are associated with agriculture, it seems that working as a farmer is quite hard and consuming\n",
    "\n",
    "2 - there is a negative correalation between agricultural land percentage and CO2 emissions in countries handled.\n",
    "\n",
    "3 - people with more income are more likely to have longer life. this may indicate that income facilitate their life and provide the with better medical assurance.\n",
    "\n",
    "4 - people with high living class tends to have less children. it can be also explained as people with more money can get pleased with alternatives other than having sex and children.\n",
    "\n",
    "5 - people with more daily energy used are more likely to live more as this energy is used to facilitate their daily tasks. So, they do not have to be consumed.\n",
    "\n",
    "6 -  countries concerned with people health ,edication levels and living standards are more likely to have higher incomes."
   ]
  },
  {
   "cell_type": "markdown",
   "metadata": {},
   "source": [
    "### limitations : there are a couple of limitations in the study : "
   ]
  },
  {
   "cell_type": "markdown",
   "metadata": {},
   "source": [
    "1- the data is analyzed for 2014 year as this was the latest data of energy usage. \n",
    "\n",
    "2- the data is applied on one timestamp(year 2014),so the change in factors along time is not handled."
   ]
  },
  {
   "cell_type": "markdown",
   "metadata": {},
   "source": [
    "### Future work : "
   ]
  },
  {
   "cell_type": "markdown",
   "metadata": {},
   "source": [
    "1- Applying the study on more updated data.\n",
    "\n",
    "2- Applying further analysis on parameters along time."
   ]
  }
 ],
 "metadata": {
  "kernelspec": {
   "display_name": "Python 3",
   "language": "python",
   "name": "python3"
  },
  "language_info": {
   "codemirror_mode": {
    "name": "ipython",
    "version": 3
   },
   "file_extension": ".py",
   "mimetype": "text/x-python",
   "name": "python",
   "nbconvert_exporter": "python",
   "pygments_lexer": "ipython3",
   "version": "3.8.8"
  }
 },
 "nbformat": 4,
 "nbformat_minor": 2
}
